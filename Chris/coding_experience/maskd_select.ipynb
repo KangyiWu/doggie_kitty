{
 "cells": [
  {
   "cell_type": "markdown",
   "metadata": {},
   "source": [
    "# torch.masked_select\n",
    "```bash\n",
    "torch.masked_select(input, mask, *, out=None) -> `Tensor`\n",
    "```\n",
    "\n"
   ]
  },
  {
   "cell_type": "code",
   "execution_count": null,
   "metadata": {},
   "outputs": [],
   "source": []
  }
 ],
 "metadata": {
  "interpreter": {
   "hash": "4e4108cd41753e46eca66252737abbc499a801f7ae185b74e60dc6cc401eed60"
  },
  "kernelspec": {
   "display_name": "Python 3.8.12 ('screenbert')",
   "language": "python",
   "name": "python3"
  },
  "language_info": {
   "name": "python",
   "version": "3.8.12"
  },
  "orig_nbformat": 4
 },
 "nbformat": 4,
 "nbformat_minor": 2
}
