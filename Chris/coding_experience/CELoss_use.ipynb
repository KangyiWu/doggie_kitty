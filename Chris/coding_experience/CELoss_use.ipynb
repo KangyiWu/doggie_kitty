{
 "cells": [
  {
   "cell_type": "markdown",
   "metadata": {},
   "source": [
    "# CrossEntropyLoss"
   ]
  },
  {
   "cell_type": "markdown",
   "metadata": {},
   "source": [
    "```bash\n",
    "CLASS torch.nn.CrossEntropyLoss(weight=None, size_average=None, ignore_index=- 100, reduce=None, reduction='mean', label_smoothing=0.0)\n",
    "```\n",
    "This Loss function is useful when training a classification problem with `C` classes.\n",
    "\n",
    "Compute CELoss between `input` and `target`.\n",
    "\n",
    "The optional argument `weight` should be a 1D `Tensor` assigning weight to each of the classes.\n",
    "\n",
    "The `input` is expected to contain raw, unnormalized scores for each class. `input` has to be a Tensor of size `C` for unbatched input. `(minibatch, C)` or `(minibatch, C, d1, d2, ..., dk)` with `K >= 1` for the k-dimensional case.\n",
    "\n",
    "The `target` can be in two cases:\n",
    "#### Class indices in the range `[0, C]`\n",
    "If `ignore_index` is specified, this loss also accepts this class index(this index may not necessarily be in the class range.) \n",
    "\n",
    "#### Probability for each class. \n",
    "useful when labels beyond a single class per minibatch item are required.\n"
   ]
  },
  {
   "cell_type": "markdown",
   "metadata": {},
   "source": [
    "#### Examples\n"
   ]
  },
  {
   "cell_type": "code",
   "execution_count": 1,
   "metadata": {},
   "outputs": [],
   "source": [
    "import torch\n",
    "from torch import nn\n",
    "loss = nn.CrossEntropyLoss()\n",
    "input = torch.randn(3, 5, requires_grad=True)\n",
    "target = torch.empty(3, dtype=torch.long).random_(5)\n",
    "output = loss(input, target)\n",
    "output.backward()"
   ]
  },
  {
   "cell_type": "code",
   "execution_count": null,
   "metadata": {},
   "outputs": [],
   "source": []
  }
 ],
 "metadata": {
  "interpreter": {
   "hash": "4e4108cd41753e46eca66252737abbc499a801f7ae185b74e60dc6cc401eed60"
  },
  "kernelspec": {
   "display_name": "Python 3.8.12 ('screenbert')",
   "language": "python",
   "name": "python3"
  },
  "language_info": {
   "codemirror_mode": {
    "name": "ipython",
    "version": 3
   },
   "file_extension": ".py",
   "mimetype": "text/x-python",
   "name": "python",
   "nbconvert_exporter": "python",
   "pygments_lexer": "ipython3",
   "version": "3.8.12"
  },
  "orig_nbformat": 4
 },
 "nbformat": 4,
 "nbformat_minor": 2
}
