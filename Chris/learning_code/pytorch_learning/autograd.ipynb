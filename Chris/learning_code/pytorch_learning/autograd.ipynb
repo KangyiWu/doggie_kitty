{
 "cells": [
  {
   "cell_type": "code",
   "execution_count": 1,
   "metadata": {},
   "outputs": [],
   "source": [
    "import torch"
   ]
  },
  {
   "cell_type": "code",
   "execution_count": 2,
   "metadata": {},
   "outputs": [
    {
     "data": {
      "text/plain": [
       "tensor([[-0.0794,  0.4353, -0.0415, -0.1946],\n",
       "        [-0.2159, -0.6213, -0.8655, -0.5107],\n",
       "        [ 1.0688,  0.2410,  0.2661, -0.3692]], requires_grad=True)"
      ]
     },
     "execution_count": 2,
     "metadata": {},
     "output_type": "execute_result"
    }
   ],
   "source": [
    "x = torch.randn(3, 4, requires_grad=True)\n",
    "x"
   ]
  },
  {
   "cell_type": "code",
   "execution_count": 22,
   "metadata": {},
   "outputs": [
    {
     "data": {
      "text/plain": [
       "tensor([[ 0.6860, -0.7144, -1.4102,  0.6642],\n",
       "        [ 0.3415,  0.7341, -1.8061,  0.2065],\n",
       "        [ 1.8626,  0.9246,  0.9433,  0.6166]], requires_grad=True)"
      ]
     },
     "execution_count": 22,
     "metadata": {},
     "output_type": "execute_result"
    }
   ],
   "source": [
    "x = torch.randn(3, 4)\n",
    "x.requires_grad=True\n",
    "x"
   ]
  },
  {
   "cell_type": "code",
   "execution_count": 23,
   "metadata": {},
   "outputs": [
    {
     "data": {
      "text/plain": [
       "tensor([[ 0.3032, -0.5102,  0.6495, -0.0670],\n",
       "        [ 0.8007,  0.1481, -0.1478,  0.8572],\n",
       "        [ 0.2000,  0.9142, -0.1171, -1.2335]], requires_grad=True)"
      ]
     },
     "execution_count": 23,
     "metadata": {},
     "output_type": "execute_result"
    }
   ],
   "source": [
    "b = torch.randn(3, 4, requires_grad=True)\n",
    "b"
   ]
  },
  {
   "cell_type": "code",
   "execution_count": 24,
   "metadata": {},
   "outputs": [],
   "source": [
    "t = x * b\n"
   ]
  },
  {
   "cell_type": "code",
   "execution_count": 25,
   "metadata": {},
   "outputs": [
    {
     "data": {
      "text/plain": [
       "tensor(0.7849, grad_fn=<SumBackward0>)"
      ]
     },
     "execution_count": 25,
     "metadata": {},
     "output_type": "execute_result"
    }
   ],
   "source": [
    "y = t.sum()\n",
    "y"
   ]
  },
  {
   "cell_type": "code",
   "execution_count": 26,
   "metadata": {},
   "outputs": [],
   "source": [
    "y.backward()"
   ]
  },
  {
   "cell_type": "code",
   "execution_count": 29,
   "metadata": {},
   "outputs": [
    {
     "data": {
      "text/plain": [
       "tensor([[ 0.6860, -0.7144, -1.4102,  0.6642],\n",
       "        [ 0.3415,  0.7341, -1.8061,  0.2065],\n",
       "        [ 1.8626,  0.9246,  0.9433,  0.6166]])"
      ]
     },
     "execution_count": 29,
     "metadata": {},
     "output_type": "execute_result"
    }
   ],
   "source": [
    "b.grad"
   ]
  },
  {
   "cell_type": "code",
   "execution_count": 30,
   "metadata": {},
   "outputs": [
    {
     "data": {
      "text/plain": [
       "tensor([[ 0.3032, -0.5102,  0.6495, -0.0670],\n",
       "        [ 0.8007,  0.1481, -0.1478,  0.8572],\n",
       "        [ 0.2000,  0.9142, -0.1171, -1.2335]])"
      ]
     },
     "execution_count": 30,
     "metadata": {},
     "output_type": "execute_result"
    }
   ],
   "source": [
    "x.grad"
   ]
  },
  {
   "cell_type": "code",
   "execution_count": 38,
   "metadata": {},
   "outputs": [],
   "source": [
    "x = torch.rand(1)\n",
    "b = torch.rand(1, requires_grad=True)\n",
    "w = torch.rand(1, requires_grad=True)\n",
    "y = w * x\n",
    "z = y + b\n"
   ]
  },
  {
   "cell_type": "code",
   "execution_count": 39,
   "metadata": {},
   "outputs": [],
   "source": [
    "z.backward()"
   ]
  },
  {
   "cell_type": "code",
   "execution_count": 40,
   "metadata": {},
   "outputs": [
    {
     "data": {
      "text/plain": [
       "tensor([0.2743])"
      ]
     },
     "execution_count": 40,
     "metadata": {},
     "output_type": "execute_result"
    }
   ],
   "source": [
    "w.grad"
   ]
  },
  {
   "cell_type": "code",
   "execution_count": 41,
   "metadata": {},
   "outputs": [
    {
     "data": {
      "text/plain": [
       "(11, 1)"
      ]
     },
     "execution_count": 41,
     "metadata": {},
     "output_type": "execute_result"
    }
   ],
   "source": [
    "import numpy as np\n",
    "x_values = [i for i in range(11)]\n",
    "x_train = np.array(x_values, dtype=np.float32)\n",
    "x_train = x_train.reshape(-1, 1)\n",
    "x_train.shape"
   ]
  },
  {
   "cell_type": "code",
   "execution_count": 42,
   "metadata": {},
   "outputs": [
    {
     "data": {
      "text/plain": [
       "(11, 1)"
      ]
     },
     "execution_count": 42,
     "metadata": {},
     "output_type": "execute_result"
    }
   ],
   "source": [
    "y_values = [2 * i for i in range(11)]\n",
    "y_train = np.array(y_values, dtype=np.float32)\n",
    "y_train = y_train.reshape(-1, 1)\n",
    "y_train.shape"
   ]
  },
  {
   "cell_type": "code",
   "execution_count": 43,
   "metadata": {},
   "outputs": [],
   "source": [
    "import torch\n",
    "from torch import nn \n"
   ]
  },
  {
   "cell_type": "code",
   "execution_count": 44,
   "metadata": {},
   "outputs": [],
   "source": [
    "class LinearRegressionModel(nn.Module):\n",
    "    def __init__(self, input_dim, output_dim):\n",
    "        super(LinearRegressionModel, self).__init__()\n",
    "        self.linear = nn.Linear(input_dim, output_dim)\n",
    "    \n",
    "    def forward(self, x):\n",
    "        out = self.linear(x)\n",
    "        return out"
   ]
  },
  {
   "cell_type": "code",
   "execution_count": 45,
   "metadata": {},
   "outputs": [],
   "source": [
    "input_dim = 1\n",
    "output_dim = 1\n",
    "model = LinearRegressionModel(input_dim=input_dim, output_dim=output_dim)\n"
   ]
  },
  {
   "cell_type": "code",
   "execution_count": 46,
   "metadata": {},
   "outputs": [
    {
     "data": {
      "text/plain": [
       "LinearRegressionModel(\n",
       "  (linear): Linear(in_features=1, out_features=1, bias=True)\n",
       ")"
      ]
     },
     "execution_count": 46,
     "metadata": {},
     "output_type": "execute_result"
    }
   ],
   "source": [
    "model"
   ]
  },
  {
   "cell_type": "code",
   "execution_count": 53,
   "metadata": {},
   "outputs": [],
   "source": [
    "epochs = 1000\n",
    "learning_rate = 1e-2\n",
    "optimizer = torch.optim.SGD(model.parameters(), lr=learning_rate)\n",
    "loss_f = nn.MSELoss()\n"
   ]
  },
  {
   "cell_type": "code",
   "execution_count": 56,
   "metadata": {},
   "outputs": [
    {
     "name": "stdout",
     "output_type": "stream",
     "text": [
      "epoch 50, loss 4.2250738374605135e-07\n",
      "epoch 100, loss 2.4090866190817906e-07\n",
      "epoch 150, loss 1.3733014725403336e-07\n",
      "epoch 200, loss 7.833310888827327e-08\n",
      "epoch 250, loss 4.482064852595613e-08\n",
      "epoch 300, loss 2.548042132843875e-08\n",
      "epoch 350, loss 1.4570074036157621e-08\n",
      "epoch 400, loss 8.320458100286032e-09\n",
      "epoch 450, loss 4.7679216130802615e-09\n",
      "epoch 500, loss 2.7078665976176808e-09\n",
      "epoch 550, loss 1.5371156569798927e-09\n",
      "epoch 600, loss 8.879870727618311e-10\n",
      "epoch 650, loss 5.125212476642105e-10\n",
      "epoch 700, loss 2.928494946541349e-10\n",
      "epoch 750, loss 1.718390291172156e-10\n",
      "epoch 800, loss 1.0206631373410602e-10\n",
      "epoch 850, loss 5.66009808466994e-11\n",
      "epoch 900, loss 3.501285372742302e-11\n",
      "epoch 950, loss 2.214200871264449e-11\n",
      "epoch 1000, loss 1.2631242406191401e-11\n"
     ]
    }
   ],
   "source": [
    "for epoch in range(epochs):\n",
    "    epoch += 1\n",
    "    inputs = torch.from_numpy(x_train)\n",
    "    labels = torch.from_numpy(y_train)\n",
    "    optimizer.zero_grad()\n",
    "    outputs = model(inputs)\n",
    "    loss = loss_f(outputs, labels)\n",
    "    loss.backward()\n",
    "    optimizer.step()\n",
    "    if epoch % 50 == 0:\n",
    "        print(\"epoch {}, loss {}\".format(epoch, loss))"
   ]
  },
  {
   "cell_type": "code",
   "execution_count": 57,
   "metadata": {},
   "outputs": [
    {
     "data": {
      "text/plain": [
       "array([[-6.8403024e-06],\n",
       "       [ 1.9999942e+00],\n",
       "       [ 3.9999950e+00],\n",
       "       [ 5.9999962e+00],\n",
       "       [ 7.9999971e+00],\n",
       "       [ 9.9999981e+00],\n",
       "       [ 1.1999999e+01],\n",
       "       [ 1.4000000e+01],\n",
       "       [ 1.6000000e+01],\n",
       "       [ 1.8000000e+01],\n",
       "       [ 2.0000002e+01]], dtype=float32)"
      ]
     },
     "execution_count": 57,
     "metadata": {},
     "output_type": "execute_result"
    }
   ],
   "source": [
    "predicted = model(torch.from_numpy(x_train)).data.numpy()\n",
    "predicted"
   ]
  },
  {
   "cell_type": "code",
   "execution_count": 58,
   "metadata": {},
   "outputs": [],
   "source": [
    "torch.save(model.state_dict(), \"model.pkl\")\n"
   ]
  },
  {
   "cell_type": "code",
   "execution_count": 59,
   "metadata": {},
   "outputs": [
    {
     "data": {
      "text/plain": [
       "<All keys matched successfully>"
      ]
     },
     "execution_count": 59,
     "metadata": {},
     "output_type": "execute_result"
    }
   ],
   "source": [
    "model.load_state_dict(torch.load(\"model.pkl\"))"
   ]
  },
  {
   "cell_type": "code",
   "execution_count": 60,
   "metadata": {},
   "outputs": [
    {
     "name": "stdout",
     "output_type": "stream",
     "text": [
      "epoch 0, loss 40.564308166503906\n",
      "epoch 50, loss 0.0035180530976504087\n",
      "epoch 100, loss 0.00200658873654902\n",
      "epoch 150, loss 0.0011444721603766084\n",
      "epoch 200, loss 0.0006527711520902812\n",
      "epoch 250, loss 0.0003723125555552542\n",
      "epoch 300, loss 0.00021235502208583057\n",
      "epoch 350, loss 0.00012111983960494399\n",
      "epoch 400, loss 6.908247451065108e-05\n",
      "epoch 450, loss 3.940088936360553e-05\n",
      "epoch 500, loss 2.2472644559456967e-05\n",
      "epoch 550, loss 1.281810546061024e-05\n",
      "epoch 600, loss 7.310763521672925e-06\n",
      "epoch 650, loss 4.169791736785555e-06\n",
      "epoch 700, loss 2.3786735710018547e-06\n",
      "epoch 750, loss 1.3566877896664664e-06\n",
      "epoch 800, loss 7.738690328551456e-07\n",
      "epoch 850, loss 4.414553131937282e-07\n",
      "epoch 900, loss 2.5173758899654786e-07\n",
      "epoch 950, loss 1.4347806143177877e-07\n"
     ]
    }
   ],
   "source": [
    "import torch\n",
    "from torch import nn\n",
    "import numpy as np\n",
    "\n",
    "class LinearRegressionModel(nn.Module):\n",
    "    def __init__(self, input_dim, output_dim):\n",
    "        super(LinearRegressionModel, self).__init__()\n",
    "        self.linear = nn.Linear(input_dim, output_dim)\n",
    "    \n",
    "    def forward(self, x):\n",
    "        out = self.linear(x)\n",
    "        return out\n",
    "\n",
    "input_dim = 1\n",
    "output_dim = 1\n",
    "model = LinearRegressionModel(input_dim, output_dim)\n",
    "device = torch.device(\"cuda:0\" if torch.cuda.is_available() else \"cpu\")\n",
    "model.to(device)\n",
    "loss_f = nn.MSELoss()\n",
    "learning_rate = 1e-2\n",
    "epochs = 1000\n",
    "optimizer = torch.optim.SGD(model.parameters(), lr = learning_rate)\n",
    "\n",
    "for epoch in range(epochs):\n",
    "    inputs = torch.from_numpy(x_train).to(device)\n",
    "    labels = torch.from_numpy(y_train).to(device)\n",
    "    optimizer.zero_grad()\n",
    "    outputs = model(inputs)\n",
    "    loss = loss_f(outputs, labels)\n",
    "    loss.backward()\n",
    "    optimizer.step()\n",
    "    if epoch % 50 == 0:\n",
    "        print(\"epoch {}, loss {}\".format(epoch, loss))"
   ]
  },
  {
   "cell_type": "code",
   "execution_count": null,
   "metadata": {},
   "outputs": [],
   "source": []
  }
 ],
 "metadata": {
  "interpreter": {
   "hash": "4e4108cd41753e46eca66252737abbc499a801f7ae185b74e60dc6cc401eed60"
  },
  "kernelspec": {
   "display_name": "Python 3.8.12 ('screenbert')",
   "language": "python",
   "name": "python3"
  },
  "language_info": {
   "codemirror_mode": {
    "name": "ipython",
    "version": 3
   },
   "file_extension": ".py",
   "mimetype": "text/x-python",
   "name": "python",
   "nbconvert_exporter": "python",
   "pygments_lexer": "ipython3",
   "version": "3.8.12"
  },
  "orig_nbformat": 4
 },
 "nbformat": 4,
 "nbformat_minor": 2
}
